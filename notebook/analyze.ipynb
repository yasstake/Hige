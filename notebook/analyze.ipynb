{
 "cells": [
  {
   "cell_type": "code",
   "execution_count": 95,
   "metadata": {
    "collapsed": true
   },
   "outputs": [],
   "source": [
    "import pandas as pd\n",
    "from matplotlib import pyplot as plt"
   ]
  },
  {
   "cell_type": "code",
   "execution_count": 96,
   "outputs": [
    {
     "data": {
      "text/plain": "                           timestamp  symbol  side    size    price  \\\n0      2021-05-14 23:59:59.468483840  BTCUSD  Sell     677  49909.0   \n1      2021-05-14 23:59:58.423747072  BTCUSD  Sell  336747  49909.0   \n2      2021-05-14 23:59:58.423747072  BTCUSD  Sell   74864  49909.0   \n3      2021-05-14 23:59:58.423747072  BTCUSD  Sell     160  49909.0   \n4      2021-05-14 23:59:58.423747072  BTCUSD  Sell   78046  49909.0   \n...                              ...     ...   ...     ...      ...   \n745897 2021-05-14 00:00:02.033566976  BTCUSD  Sell   31414  49708.5   \n745898 2021-05-14 00:00:02.033566976  BTCUSD  Sell   15652  49708.5   \n745899 2021-05-14 00:00:01.632832000  BTCUSD  Sell     857  49708.5   \n745900 2021-05-14 00:00:00.978902016  BTCUSD  Sell    4500  49708.5   \n745901 2021-05-14 00:00:00.551013120  BTCUSD  Sell    1520  49708.5   \n\n        tickDirection                            trdMatchID   grossValue  \\\n0       ZeroMinusTick  dec4e356-236d-5954-9d0a-0480ddda59f1    1356468.0   \n1       ZeroMinusTick  477e9f54-b70a-56db-ba48-7658c9e2015c  674721994.0   \n2       ZeroMinusTick  608d522e-c631-54a8-9e39-5fc813a2fcbe  150001001.0   \n3       ZeroMinusTick  aa865f5b-b57e-5b60-915d-dddd14994387     320583.0   \n4       ZeroMinusTick  c0f873fd-b2a9-5e22-806d-3af648d2258f  156376605.0   \n...               ...                                   ...          ...   \n745897  ZeroMinusTick  95bc7edd-080f-5ac2-95ef-593b818606d0   63196435.0   \n745898  ZeroMinusTick  cdb8212c-f862-5083-98ef-7d54710c5f92   31487572.0   \n745899  ZeroMinusTick  64f9d2a0-c092-5ce1-8d6a-e03d0684e190    1724051.0   \n745900  ZeroMinusTick  b1dc4e2f-daab-5e52-84fb-28c348d7da53    9052777.0   \n745901      MinusTick  7b128a68-82ec-5d24-86bd-bfb75ffd9f91    3057827.0   \n\n        homeNotional  foreignNotional  \n0                677         0.013565  \n1             336747         6.747220  \n2              74864         1.500010  \n3                160         0.003206  \n4              78046         1.563766  \n...              ...              ...  \n745897         31414         0.631964  \n745898         15652         0.314876  \n745899           857         0.017241  \n745900          4500         0.090528  \n745901          1520         0.030578  \n\n[745902 rows x 10 columns]",
      "text/html": "<div>\n<style scoped>\n    .dataframe tbody tr th:only-of-type {\n        vertical-align: middle;\n    }\n\n    .dataframe tbody tr th {\n        vertical-align: top;\n    }\n\n    .dataframe thead th {\n        text-align: right;\n    }\n</style>\n<table border=\"1\" class=\"dataframe\">\n  <thead>\n    <tr style=\"text-align: right;\">\n      <th></th>\n      <th>timestamp</th>\n      <th>symbol</th>\n      <th>side</th>\n      <th>size</th>\n      <th>price</th>\n      <th>tickDirection</th>\n      <th>trdMatchID</th>\n      <th>grossValue</th>\n      <th>homeNotional</th>\n      <th>foreignNotional</th>\n    </tr>\n  </thead>\n  <tbody>\n    <tr>\n      <th>0</th>\n      <td>2021-05-14 23:59:59.468483840</td>\n      <td>BTCUSD</td>\n      <td>Sell</td>\n      <td>677</td>\n      <td>49909.0</td>\n      <td>ZeroMinusTick</td>\n      <td>dec4e356-236d-5954-9d0a-0480ddda59f1</td>\n      <td>1356468.0</td>\n      <td>677</td>\n      <td>0.013565</td>\n    </tr>\n    <tr>\n      <th>1</th>\n      <td>2021-05-14 23:59:58.423747072</td>\n      <td>BTCUSD</td>\n      <td>Sell</td>\n      <td>336747</td>\n      <td>49909.0</td>\n      <td>ZeroMinusTick</td>\n      <td>477e9f54-b70a-56db-ba48-7658c9e2015c</td>\n      <td>674721994.0</td>\n      <td>336747</td>\n      <td>6.747220</td>\n    </tr>\n    <tr>\n      <th>2</th>\n      <td>2021-05-14 23:59:58.423747072</td>\n      <td>BTCUSD</td>\n      <td>Sell</td>\n      <td>74864</td>\n      <td>49909.0</td>\n      <td>ZeroMinusTick</td>\n      <td>608d522e-c631-54a8-9e39-5fc813a2fcbe</td>\n      <td>150001001.0</td>\n      <td>74864</td>\n      <td>1.500010</td>\n    </tr>\n    <tr>\n      <th>3</th>\n      <td>2021-05-14 23:59:58.423747072</td>\n      <td>BTCUSD</td>\n      <td>Sell</td>\n      <td>160</td>\n      <td>49909.0</td>\n      <td>ZeroMinusTick</td>\n      <td>aa865f5b-b57e-5b60-915d-dddd14994387</td>\n      <td>320583.0</td>\n      <td>160</td>\n      <td>0.003206</td>\n    </tr>\n    <tr>\n      <th>4</th>\n      <td>2021-05-14 23:59:58.423747072</td>\n      <td>BTCUSD</td>\n      <td>Sell</td>\n      <td>78046</td>\n      <td>49909.0</td>\n      <td>ZeroMinusTick</td>\n      <td>c0f873fd-b2a9-5e22-806d-3af648d2258f</td>\n      <td>156376605.0</td>\n      <td>78046</td>\n      <td>1.563766</td>\n    </tr>\n    <tr>\n      <th>...</th>\n      <td>...</td>\n      <td>...</td>\n      <td>...</td>\n      <td>...</td>\n      <td>...</td>\n      <td>...</td>\n      <td>...</td>\n      <td>...</td>\n      <td>...</td>\n      <td>...</td>\n    </tr>\n    <tr>\n      <th>745897</th>\n      <td>2021-05-14 00:00:02.033566976</td>\n      <td>BTCUSD</td>\n      <td>Sell</td>\n      <td>31414</td>\n      <td>49708.5</td>\n      <td>ZeroMinusTick</td>\n      <td>95bc7edd-080f-5ac2-95ef-593b818606d0</td>\n      <td>63196435.0</td>\n      <td>31414</td>\n      <td>0.631964</td>\n    </tr>\n    <tr>\n      <th>745898</th>\n      <td>2021-05-14 00:00:02.033566976</td>\n      <td>BTCUSD</td>\n      <td>Sell</td>\n      <td>15652</td>\n      <td>49708.5</td>\n      <td>ZeroMinusTick</td>\n      <td>cdb8212c-f862-5083-98ef-7d54710c5f92</td>\n      <td>31487572.0</td>\n      <td>15652</td>\n      <td>0.314876</td>\n    </tr>\n    <tr>\n      <th>745899</th>\n      <td>2021-05-14 00:00:01.632832000</td>\n      <td>BTCUSD</td>\n      <td>Sell</td>\n      <td>857</td>\n      <td>49708.5</td>\n      <td>ZeroMinusTick</td>\n      <td>64f9d2a0-c092-5ce1-8d6a-e03d0684e190</td>\n      <td>1724051.0</td>\n      <td>857</td>\n      <td>0.017241</td>\n    </tr>\n    <tr>\n      <th>745900</th>\n      <td>2021-05-14 00:00:00.978902016</td>\n      <td>BTCUSD</td>\n      <td>Sell</td>\n      <td>4500</td>\n      <td>49708.5</td>\n      <td>ZeroMinusTick</td>\n      <td>b1dc4e2f-daab-5e52-84fb-28c348d7da53</td>\n      <td>9052777.0</td>\n      <td>4500</td>\n      <td>0.090528</td>\n    </tr>\n    <tr>\n      <th>745901</th>\n      <td>2021-05-14 00:00:00.551013120</td>\n      <td>BTCUSD</td>\n      <td>Sell</td>\n      <td>1520</td>\n      <td>49708.5</td>\n      <td>MinusTick</td>\n      <td>7b128a68-82ec-5d24-86bd-bfb75ffd9f91</td>\n      <td>3057827.0</td>\n      <td>1520</td>\n      <td>0.030578</td>\n    </tr>\n  </tbody>\n</table>\n<p>745902 rows × 10 columns</p>\n</div>"
     },
     "execution_count": 96,
     "metadata": {},
     "output_type": "execute_result"
    }
   ],
   "source": [
    "EXEC_DATA='../DATA/BTCUSD2021-05-14.csv.gz'\n",
    "exec_df = pd.read_csv(EXEC_DATA)\n",
    "\n",
    "\n",
    "exec_df['timestamp'] = pd.to_datetime(exec_df['timestamp']*1_000_000_000)\n",
    "\n",
    "exec_df"
   ],
   "metadata": {
    "collapsed": false,
    "pycharm": {
     "name": "#%%\n"
    }
   }
  },
  {
   "cell_type": "code",
   "execution_count": 97,
   "outputs": [
    {
     "data": {
      "text/plain": "               size         price  tickDirection  trdMatchID  grossValue  \\\ncount  1.000000e+03   1000.000000            0.0         0.0         0.0   \nmean   1.806700e+04  49601.834000            NaN         NaN         NaN   \nstd    6.694696e+04    455.014807            NaN         NaN         NaN   \nmin    1.000000e+00  48843.000000            NaN         NaN         NaN   \n25%    2.925000e+02  49284.500000            NaN         NaN         NaN   \n50%    1.536000e+03  49552.250000            NaN         NaN         NaN   \n75%    8.059000e+03  49838.000000            NaN         NaN         NaN   \nmax    1.097674e+06  50955.000000            NaN         NaN         NaN   \n\n       homeNotional  foreignNotional  \ncount           0.0              0.0  \nmean            NaN              NaN  \nstd             NaN              NaN  \nmin             NaN              NaN  \n25%             NaN              NaN  \n50%             NaN              NaN  \n75%             NaN              NaN  \nmax             NaN              NaN  ",
      "text/html": "<div>\n<style scoped>\n    .dataframe tbody tr th:only-of-type {\n        vertical-align: middle;\n    }\n\n    .dataframe tbody tr th {\n        vertical-align: top;\n    }\n\n    .dataframe thead th {\n        text-align: right;\n    }\n</style>\n<table border=\"1\" class=\"dataframe\">\n  <thead>\n    <tr style=\"text-align: right;\">\n      <th></th>\n      <th>size</th>\n      <th>price</th>\n      <th>tickDirection</th>\n      <th>trdMatchID</th>\n      <th>grossValue</th>\n      <th>homeNotional</th>\n      <th>foreignNotional</th>\n    </tr>\n  </thead>\n  <tbody>\n    <tr>\n      <th>count</th>\n      <td>1.000000e+03</td>\n      <td>1000.000000</td>\n      <td>0.0</td>\n      <td>0.0</td>\n      <td>0.0</td>\n      <td>0.0</td>\n      <td>0.0</td>\n    </tr>\n    <tr>\n      <th>mean</th>\n      <td>1.806700e+04</td>\n      <td>49601.834000</td>\n      <td>NaN</td>\n      <td>NaN</td>\n      <td>NaN</td>\n      <td>NaN</td>\n      <td>NaN</td>\n    </tr>\n    <tr>\n      <th>std</th>\n      <td>6.694696e+04</td>\n      <td>455.014807</td>\n      <td>NaN</td>\n      <td>NaN</td>\n      <td>NaN</td>\n      <td>NaN</td>\n      <td>NaN</td>\n    </tr>\n    <tr>\n      <th>min</th>\n      <td>1.000000e+00</td>\n      <td>48843.000000</td>\n      <td>NaN</td>\n      <td>NaN</td>\n      <td>NaN</td>\n      <td>NaN</td>\n      <td>NaN</td>\n    </tr>\n    <tr>\n      <th>25%</th>\n      <td>2.925000e+02</td>\n      <td>49284.500000</td>\n      <td>NaN</td>\n      <td>NaN</td>\n      <td>NaN</td>\n      <td>NaN</td>\n      <td>NaN</td>\n    </tr>\n    <tr>\n      <th>50%</th>\n      <td>1.536000e+03</td>\n      <td>49552.250000</td>\n      <td>NaN</td>\n      <td>NaN</td>\n      <td>NaN</td>\n      <td>NaN</td>\n      <td>NaN</td>\n    </tr>\n    <tr>\n      <th>75%</th>\n      <td>8.059000e+03</td>\n      <td>49838.000000</td>\n      <td>NaN</td>\n      <td>NaN</td>\n      <td>NaN</td>\n      <td>NaN</td>\n      <td>NaN</td>\n    </tr>\n    <tr>\n      <th>max</th>\n      <td>1.097674e+06</td>\n      <td>50955.000000</td>\n      <td>NaN</td>\n      <td>NaN</td>\n      <td>NaN</td>\n      <td>NaN</td>\n      <td>NaN</td>\n    </tr>\n  </tbody>\n</table>\n</div>"
     },
     "execution_count": 97,
     "metadata": {},
     "output_type": "execute_result"
    }
   ],
   "source": [
    "LIQ_DATA='../DATA/liquid.csv'\n",
    "liquid_df = pd.read_csv(LIQ_DATA)\n",
    "liquid_df['timestamp'] = pd.to_datetime(liquid_df['timestamp']*1_000_000_000)\n",
    "\n",
    "liquid_df.describe()\n",
    "\n"
   ],
   "metadata": {
    "collapsed": false,
    "pycharm": {
     "name": "#%%\n"
    }
   }
  },
  {
   "cell_type": "code",
   "execution_count": 98,
   "outputs": [
    {
     "data": {
      "text/plain": "                size         price  tickDirection  trdMatchID  grossValue  \\\ncount     143.000000    143.000000            0.0         0.0         0.0   \nmean    12694.629371  50388.178322            NaN         NaN         NaN   \nstd     62101.590270    335.200489            NaN         NaN         NaN   \nmin         1.000000  49621.000000            NaN         NaN         NaN   \n25%        98.500000  50148.500000            NaN         NaN         NaN   \n50%      1289.000000  50407.500000            NaN         NaN         NaN   \n75%      5000.000000  50581.000000            NaN         NaN         NaN   \nmax    650000.000000  50955.000000            NaN         NaN         NaN   \n\n       homeNotional  foreignNotional  \ncount           0.0              0.0  \nmean            NaN              NaN  \nstd             NaN              NaN  \nmin             NaN              NaN  \n25%             NaN              NaN  \n50%             NaN              NaN  \n75%             NaN              NaN  \nmax             NaN              NaN  ",
      "text/html": "<div>\n<style scoped>\n    .dataframe tbody tr th:only-of-type {\n        vertical-align: middle;\n    }\n\n    .dataframe tbody tr th {\n        vertical-align: top;\n    }\n\n    .dataframe thead th {\n        text-align: right;\n    }\n</style>\n<table border=\"1\" class=\"dataframe\">\n  <thead>\n    <tr style=\"text-align: right;\">\n      <th></th>\n      <th>size</th>\n      <th>price</th>\n      <th>tickDirection</th>\n      <th>trdMatchID</th>\n      <th>grossValue</th>\n      <th>homeNotional</th>\n      <th>foreignNotional</th>\n    </tr>\n  </thead>\n  <tbody>\n    <tr>\n      <th>count</th>\n      <td>143.000000</td>\n      <td>143.000000</td>\n      <td>0.0</td>\n      <td>0.0</td>\n      <td>0.0</td>\n      <td>0.0</td>\n      <td>0.0</td>\n    </tr>\n    <tr>\n      <th>mean</th>\n      <td>12694.629371</td>\n      <td>50388.178322</td>\n      <td>NaN</td>\n      <td>NaN</td>\n      <td>NaN</td>\n      <td>NaN</td>\n      <td>NaN</td>\n    </tr>\n    <tr>\n      <th>std</th>\n      <td>62101.590270</td>\n      <td>335.200489</td>\n      <td>NaN</td>\n      <td>NaN</td>\n      <td>NaN</td>\n      <td>NaN</td>\n      <td>NaN</td>\n    </tr>\n    <tr>\n      <th>min</th>\n      <td>1.000000</td>\n      <td>49621.000000</td>\n      <td>NaN</td>\n      <td>NaN</td>\n      <td>NaN</td>\n      <td>NaN</td>\n      <td>NaN</td>\n    </tr>\n    <tr>\n      <th>25%</th>\n      <td>98.500000</td>\n      <td>50148.500000</td>\n      <td>NaN</td>\n      <td>NaN</td>\n      <td>NaN</td>\n      <td>NaN</td>\n      <td>NaN</td>\n    </tr>\n    <tr>\n      <th>50%</th>\n      <td>1289.000000</td>\n      <td>50407.500000</td>\n      <td>NaN</td>\n      <td>NaN</td>\n      <td>NaN</td>\n      <td>NaN</td>\n      <td>NaN</td>\n    </tr>\n    <tr>\n      <th>75%</th>\n      <td>5000.000000</td>\n      <td>50581.000000</td>\n      <td>NaN</td>\n      <td>NaN</td>\n      <td>NaN</td>\n      <td>NaN</td>\n      <td>NaN</td>\n    </tr>\n    <tr>\n      <th>max</th>\n      <td>650000.000000</td>\n      <td>50955.000000</td>\n      <td>NaN</td>\n      <td>NaN</td>\n      <td>NaN</td>\n      <td>NaN</td>\n      <td>NaN</td>\n    </tr>\n  </tbody>\n</table>\n</div>"
     },
     "execution_count": 98,
     "metadata": {},
     "output_type": "execute_result"
    }
   ],
   "source": [
    "sell_liq_df = liquid_df[liquid_df[\"side\"].str.contains('Sell')]\n",
    "sell_liq_df.describe()"
   ],
   "metadata": {
    "collapsed": false,
    "pycharm": {
     "name": "#%%\n"
    }
   }
  },
  {
   "cell_type": "code",
   "execution_count": 99,
   "outputs": [
    {
     "data": {
      "text/plain": "               size         price  tickDirection  trdMatchID  grossValue  \\\ncount  8.570000e+02    857.000000            0.0         0.0         0.0   \nmean   1.896344e+04  49470.623687            NaN         NaN         NaN   \nstd    6.771434e+04    320.083083            NaN         NaN         NaN   \nmin    1.000000e+00  48843.000000            NaN         NaN         NaN   \n25%    3.240000e+02  49227.000000            NaN         NaN         NaN   \n50%    1.560000e+03  49485.000000            NaN         NaN         NaN   \n75%    9.216000e+03  49744.500000            NaN         NaN         NaN   \nmax    1.097674e+06  50231.500000            NaN         NaN         NaN   \n\n       homeNotional  foreignNotional  \ncount           0.0              0.0  \nmean            NaN              NaN  \nstd             NaN              NaN  \nmin             NaN              NaN  \n25%             NaN              NaN  \n50%             NaN              NaN  \n75%             NaN              NaN  \nmax             NaN              NaN  ",
      "text/html": "<div>\n<style scoped>\n    .dataframe tbody tr th:only-of-type {\n        vertical-align: middle;\n    }\n\n    .dataframe tbody tr th {\n        vertical-align: top;\n    }\n\n    .dataframe thead th {\n        text-align: right;\n    }\n</style>\n<table border=\"1\" class=\"dataframe\">\n  <thead>\n    <tr style=\"text-align: right;\">\n      <th></th>\n      <th>size</th>\n      <th>price</th>\n      <th>tickDirection</th>\n      <th>trdMatchID</th>\n      <th>grossValue</th>\n      <th>homeNotional</th>\n      <th>foreignNotional</th>\n    </tr>\n  </thead>\n  <tbody>\n    <tr>\n      <th>count</th>\n      <td>8.570000e+02</td>\n      <td>857.000000</td>\n      <td>0.0</td>\n      <td>0.0</td>\n      <td>0.0</td>\n      <td>0.0</td>\n      <td>0.0</td>\n    </tr>\n    <tr>\n      <th>mean</th>\n      <td>1.896344e+04</td>\n      <td>49470.623687</td>\n      <td>NaN</td>\n      <td>NaN</td>\n      <td>NaN</td>\n      <td>NaN</td>\n      <td>NaN</td>\n    </tr>\n    <tr>\n      <th>std</th>\n      <td>6.771434e+04</td>\n      <td>320.083083</td>\n      <td>NaN</td>\n      <td>NaN</td>\n      <td>NaN</td>\n      <td>NaN</td>\n      <td>NaN</td>\n    </tr>\n    <tr>\n      <th>min</th>\n      <td>1.000000e+00</td>\n      <td>48843.000000</td>\n      <td>NaN</td>\n      <td>NaN</td>\n      <td>NaN</td>\n      <td>NaN</td>\n      <td>NaN</td>\n    </tr>\n    <tr>\n      <th>25%</th>\n      <td>3.240000e+02</td>\n      <td>49227.000000</td>\n      <td>NaN</td>\n      <td>NaN</td>\n      <td>NaN</td>\n      <td>NaN</td>\n      <td>NaN</td>\n    </tr>\n    <tr>\n      <th>50%</th>\n      <td>1.560000e+03</td>\n      <td>49485.000000</td>\n      <td>NaN</td>\n      <td>NaN</td>\n      <td>NaN</td>\n      <td>NaN</td>\n      <td>NaN</td>\n    </tr>\n    <tr>\n      <th>75%</th>\n      <td>9.216000e+03</td>\n      <td>49744.500000</td>\n      <td>NaN</td>\n      <td>NaN</td>\n      <td>NaN</td>\n      <td>NaN</td>\n      <td>NaN</td>\n    </tr>\n    <tr>\n      <th>max</th>\n      <td>1.097674e+06</td>\n      <td>50231.500000</td>\n      <td>NaN</td>\n      <td>NaN</td>\n      <td>NaN</td>\n      <td>NaN</td>\n      <td>NaN</td>\n    </tr>\n  </tbody>\n</table>\n</div>"
     },
     "execution_count": 99,
     "metadata": {},
     "output_type": "execute_result"
    }
   ],
   "source": [
    "buy_liq_df = liquid_df[liquid_df[\"side\"].str.contains('Buy')]\n",
    "buy_liq_df.describe()"
   ],
   "metadata": {
    "collapsed": false,
    "pycharm": {
     "name": "#%%\n"
    }
   }
  },
  {
   "cell_type": "code",
   "execution_count": 100,
   "outputs": [
    {
     "name": "stdout",
     "output_type": "stream",
     "text": [
      "0       Buy \n",
      "1       Buy \n",
      "2       Buy \n",
      "3       Buy \n",
      "4       Buy \n",
      "       ...  \n",
      "995     Buy \n",
      "996     Buy \n",
      "997     Buy \n",
      "998     Buy \n",
      "999     Buy \n",
      "Name: side, Length: 1000, dtype: object\n"
     ]
    }
   ],
   "source": [
    "print(liquid_df[\"side\"])"
   ],
   "metadata": {
    "collapsed": false,
    "pycharm": {
     "name": "#%%\n"
    }
   }
  },
  {
   "cell_type": "code",
   "execution_count": 101,
   "outputs": [],
   "source": [
    "liquid_start_time = liquid_df.iloc[0]['timestamp']\n",
    "exec_df = exec_df[liquid_start_time < exec_df['timestamp']]\n",
    "\n"
   ],
   "metadata": {
    "collapsed": false,
    "pycharm": {
     "name": "#%%\n"
    }
   }
  },
  {
   "cell_type": "code",
   "execution_count": 102,
   "outputs": [
    {
     "data": {
      "text/plain": "<Figure size 432x288 with 2 Axes>",
      "image/png": "[encoded data removed]"
     },
     "metadata": {
      "needs_background": "light"
     },
     "output_type": "display_data"
    }
   ],
   "source": [
    "fig = plt.figure()\n",
    "ax1 = fig.add_subplot(111)\n",
    "\n",
    "x1 = exec_df['timestamp']\n",
    "exec_price = exec_df['price']\n",
    "\n",
    "plt.plot(x1, exec_price)\n",
    "\n",
    "\n",
    "ax2 = ax1.twinx()\n",
    "\n",
    "x2= sell_liq_df['timestamp']\n",
    "y2= sell_liq_df['size']\n",
    "\n",
    "x3= buy_liq_df['timestamp']\n",
    "y3= buy_liq_df['size']\n",
    "\n",
    "plt.plot(x2, y2)\n",
    "plt.plot(x3, y3)\n",
    "\n",
    "plt.show()\n"
   ],
   "metadata": {
    "collapsed": false,
    "pycharm": {
     "name": "#%%\n"
    }
   }
  },
  {
   "cell_type": "code",
   "execution_count": 102,
   "outputs": [],
   "source": [
    "\n"
   ],
   "metadata": {
    "collapsed": false,
    "pycharm": {
     "name": "#%%\n"
    }
   }
  }
 ],
 "metadata": {
  "kernelspec": {
   "display_name": "Python 3",
   "language": "python",
   "name": "python3"
  },
  "language_info": {
   "codemirror_mode": {
    "name": "ipython",
    "version": 2
   },
   "file_extension": ".py",
   "mimetype": "text/x-python",
   "name": "python",
   "nbconvert_exporter": "python",
   "pygments_lexer": "ipython2",
   "version": "2.7.6"
  }
 },
 "nbformat": 4,
 "nbformat_minor": 0
}